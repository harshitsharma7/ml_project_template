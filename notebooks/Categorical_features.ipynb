{
 "cells": [
  {
   "cell_type": "code",
   "execution_count": 2,
   "id": "fd6815f5-e372-43b5-b869-0cc89a95e797",
   "metadata": {},
   "outputs": [],
   "source": [
    "import pandas as pd\n",
    "import numpy as np"
   ]
  },
  {
   "cell_type": "code",
   "execution_count": 3,
   "id": "3193e1d7-90c5-40eb-993c-cb7ae6246551",
   "metadata": {},
   "outputs": [],
   "source": [
    "train = pd.read_csv(\"../input/train.csv\")"
   ]
  },
  {
   "cell_type": "code",
   "execution_count": 5,
   "id": "3ddb79b6",
   "metadata": {},
   "outputs": [
    {
     "data": {
      "text/plain": [
       "Index(['id', 'bin_0', 'bin_1', 'bin_2', 'bin_3', 'bin_4', 'nom_0', 'nom_1',\n",
       "       'nom_2', 'nom_3', 'nom_4', 'nom_5', 'nom_6', 'nom_7', 'nom_8', 'nom_9',\n",
       "       'ord_0', 'ord_1', 'ord_2', 'ord_3', 'ord_4', 'ord_5', 'day', 'month',\n",
       "       'target'],\n",
       "      dtype='object')"
      ]
     },
     "execution_count": 5,
     "metadata": {},
     "output_type": "execute_result"
    }
   ],
   "source": [
    "train.columns"
   ]
  },
  {
   "cell_type": "code",
   "execution_count": 7,
   "id": "e44881a9",
   "metadata": {},
   "outputs": [],
   "source": [
    "noms = [i for i in train.columns if i[:3]=='nom']"
   ]
  },
  {
   "cell_type": "code",
   "execution_count": 8,
   "id": "7e8cd74a",
   "metadata": {},
   "outputs": [],
   "source": [
    "bins = [i for i in train.columns if i[:3]=='bin']\n",
    "ords = [i for i in train.columns if i[:3]=='ord']"
   ]
  },
  {
   "cell_type": "code",
   "execution_count": 13,
   "id": "281b6a67",
   "metadata": {},
   "outputs": [
    {
     "data": {
      "text/plain": [
       "['bin_0', 'bin_1', 'bin_2', 'bin_3', 'bin_4']"
      ]
     },
     "execution_count": 13,
     "metadata": {},
     "output_type": "execute_result"
    }
   ],
   "source": [
    "bins"
   ]
  },
  {
   "cell_type": "code",
   "execution_count": 14,
   "id": "dc9ceaf0",
   "metadata": {},
   "outputs": [
    {
     "data": {
      "text/plain": [
       "['ord_0', 'ord_1', 'ord_2', 'ord_3', 'ord_4', 'ord_5']"
      ]
     },
     "execution_count": 14,
     "metadata": {},
     "output_type": "execute_result"
    }
   ],
   "source": [
    "ords"
   ]
  },
  {
   "cell_type": "code",
   "execution_count": 17,
   "id": "f7e1d47d",
   "metadata": {},
   "outputs": [
    {
     "data": {
      "text/plain": [
       "['nom_0',\n",
       " 'nom_1',\n",
       " 'nom_2',\n",
       " 'nom_3',\n",
       " 'nom_4',\n",
       " 'nom_5',\n",
       " 'nom_6',\n",
       " 'nom_7',\n",
       " 'nom_8',\n",
       " 'nom_9']"
      ]
     },
     "execution_count": 17,
     "metadata": {},
     "output_type": "execute_result"
    }
   ],
   "source": [
    "noms"
   ]
  },
  {
   "cell_type": "markdown",
   "id": "e5943779",
   "metadata": {},
   "source": [
    "## Noms"
   ]
  },
  {
   "cell_type": "code",
   "execution_count": 18,
   "id": "d06770ca",
   "metadata": {},
   "outputs": [
    {
     "name": "stdout",
     "output_type": "stream",
     "text": [
      "nom_0\n",
      "Green    127341\n",
      "Blue      96166\n",
      "Red       76493\n",
      "Name: nom_0, dtype: int64\n",
      "3\n",
      "********************\n",
      "nom_1\n",
      "Trapezoid    101181\n",
      "Square        49597\n",
      "Star          45904\n",
      "Circle        37320\n",
      "Polygon       36143\n",
      "Triangle      29855\n",
      "Name: nom_1, dtype: int64\n",
      "6\n",
      "********************\n",
      "nom_2\n",
      "Lion       101295\n",
      "Cat         49659\n",
      "Snake       45979\n",
      "Dog         37444\n",
      "Axolotl     36136\n",
      "Hamster     29487\n",
      "Name: nom_2, dtype: int64\n",
      "6\n",
      "********************\n",
      "nom_3\n",
      "Russia        101123\n",
      "Canada         49951\n",
      "China          46044\n",
      "Finland        36942\n",
      "Costa Rica     35988\n",
      "India          29952\n",
      "Name: nom_3, dtype: int64\n",
      "6\n",
      "********************\n",
      "nom_4\n",
      "Oboe        92293\n",
      "Piano       84517\n",
      "Bassoon     68448\n",
      "Theremin    54742\n",
      "Name: nom_4, dtype: int64\n",
      "4\n",
      "********************\n",
      "nom_5\n",
      "f7821e391    2801\n",
      "06eeaf0aa    2750\n",
      "472efea17    2729\n",
      "20b10a832    2725\n",
      "b97f51ac4    2717\n",
      "             ... \n",
      "91c80026f      64\n",
      "88f104c00      59\n",
      "f802a9849      46\n",
      "1fd0233cd      41\n",
      "f710fca39      26\n",
      "Name: nom_5, Length: 222, dtype: int64\n",
      "222\n",
      "********************\n",
      "nom_6\n",
      "d173ac7ca    1218\n",
      "2ed5a94b0    1210\n",
      "c9eedfbc2    1193\n",
      "50d7ad46a    1175\n",
      "0922e3cb8    1169\n",
      "             ... \n",
      "26bf5ddd9      16\n",
      "28630a5c8      12\n",
      "8367b78fc      11\n",
      "e97824431       8\n",
      "4dcab4fc8       5\n",
      "Name: nom_6, Length: 522, dtype: int64\n",
      "522\n",
      "********************\n",
      "nom_7\n",
      "3a114adea    534\n",
      "6f3940b72    518\n",
      "3b679e531    518\n",
      "fcf2b8dce    517\n",
      "fe27cc23d    515\n",
      "            ... \n",
      "bc05442e1      3\n",
      "2b5df4f24      3\n",
      "446df0c98      3\n",
      "74a1b69b1      2\n",
      "3460d7c4b      1\n",
      "Name: nom_7, Length: 1220, dtype: int64\n",
      "1220\n",
      "********************\n",
      "nom_8\n",
      "c720f85ca    299\n",
      "9ff6898e5    294\n",
      "3cec7c3f5    292\n",
      "d69adef8b    288\n",
      "17ba84114    287\n",
      "            ... \n",
      "5361d3b53      2\n",
      "44f729e5a      2\n",
      "4b30750de      1\n",
      "83a266f13      1\n",
      "40b8df5b6      1\n",
      "Name: nom_8, Length: 2215, dtype: int64\n",
      "2215\n",
      "********************\n",
      "nom_9\n",
      "163cc60fa    72\n",
      "21578b358    70\n",
      "e8be2364b    67\n",
      "412859a59    67\n",
      "f12f038cc    66\n",
      "             ..\n",
      "9a34978fd     1\n",
      "9c5190350     1\n",
      "1c2487c11     1\n",
      "ed6fb6436     1\n",
      "e05e4c676     1\n",
      "Name: nom_9, Length: 11981, dtype: int64\n",
      "11981\n",
      "********************\n"
     ]
    }
   ],
   "source": [
    "for i in noms:\n",
    "    print(i)\n",
    "    print(train[i].value_counts())\n",
    "    print(train[i].nunique())\n",
    "    print('*'*20)"
   ]
  },
  {
   "cell_type": "code",
   "execution_count": 21,
   "id": "6ee438c8",
   "metadata": {},
   "outputs": [],
   "source": [
    "ohe = [i for i in noms if train[i].nunique()<10]\n",
    "target_mean = [i for i in noms if train[i].nunique()>10]"
   ]
  },
  {
   "cell_type": "code",
   "execution_count": 22,
   "id": "3a785cef",
   "metadata": {},
   "outputs": [
    {
     "name": "stdout",
     "output_type": "stream",
     "text": [
      "['nom_0', 'nom_1', 'nom_2', 'nom_3', 'nom_4']\n",
      "['nom_5', 'nom_6', 'nom_7', 'nom_8', 'nom_9']\n"
     ]
    }
   ],
   "source": [
    "print(ohe)\n",
    "print(target_mean)"
   ]
  },
  {
   "cell_type": "markdown",
   "id": "41a80208",
   "metadata": {},
   "source": [
    "## Bins"
   ]
  },
  {
   "cell_type": "code",
   "execution_count": 23,
   "id": "ba513eda",
   "metadata": {},
   "outputs": [
    {
     "name": "stdout",
     "output_type": "stream",
     "text": [
      "bin_0\n",
      "0    261749\n",
      "1     38251\n",
      "Name: bin_0, dtype: int64\n",
      "2\n",
      "********************\n",
      "bin_1\n",
      "0    223018\n",
      "1     76982\n",
      "Name: bin_1, dtype: int64\n",
      "2\n",
      "********************\n",
      "bin_2\n",
      "0    185033\n",
      "1    114967\n",
      "Name: bin_2, dtype: int64\n",
      "2\n",
      "********************\n",
      "bin_3\n",
      "T    153535\n",
      "F    146465\n",
      "Name: bin_3, dtype: int64\n",
      "2\n",
      "********************\n",
      "bin_4\n",
      "Y    191633\n",
      "N    108367\n",
      "Name: bin_4, dtype: int64\n",
      "2\n",
      "********************\n"
     ]
    }
   ],
   "source": [
    "for i in bins:\n",
    "    print(i)\n",
    "    print(train[i].value_counts())\n",
    "    print(train[i].nunique())\n",
    "    print('*'*20)"
   ]
  },
  {
   "cell_type": "markdown",
   "id": "fd948a33",
   "metadata": {},
   "source": [
    "#### Binaries are easy as they have only 2 categories we can just do dummy encoding"
   ]
  },
  {
   "cell_type": "markdown",
   "id": "1498ef0d",
   "metadata": {},
   "source": [
    "## Ords"
   ]
  },
  {
   "cell_type": "code",
   "execution_count": 24,
   "id": "e593fa4d",
   "metadata": {},
   "outputs": [
    {
     "name": "stdout",
     "output_type": "stream",
     "text": [
      "ord_0\n",
      "1    194846\n",
      "2     66438\n",
      "3     38716\n",
      "Name: ord_0, dtype: int64\n",
      "3\n",
      "********************\n",
      "ord_1\n",
      "Novice         126583\n",
      "Grandmaster     77428\n",
      "Contributor     42871\n",
      "Master          28053\n",
      "Expert          25065\n",
      "Name: ord_1, dtype: int64\n",
      "5\n",
      "********************\n",
      "ord_2\n",
      "Freezing       99816\n",
      "Lava Hot       63908\n",
      "Boiling Hot    60627\n",
      "Cold           33768\n",
      "Hot            22227\n",
      "Warm           19654\n",
      "Name: ord_2, dtype: int64\n",
      "6\n",
      "********************\n",
      "ord_3\n",
      "g    36405\n",
      "l    36124\n",
      "a    35276\n",
      "k    28619\n",
      "i    28048\n",
      "h    24740\n",
      "j    24647\n",
      "f    22384\n",
      "e    21331\n",
      "b    11916\n",
      "o    11320\n",
      "d     7904\n",
      "c     6944\n",
      "n     4014\n",
      "m      328\n",
      "Name: ord_3, dtype: int64\n",
      "15\n",
      "********************\n",
      "ord_4\n",
      "L    19066\n",
      "G    18899\n",
      "S    18875\n",
      "A    18258\n",
      "R    16927\n",
      "Q    15925\n",
      "K    14698\n",
      "I    14644\n",
      "Z    14232\n",
      "T    14220\n",
      "V    14143\n",
      "J    12878\n",
      "P    12839\n",
      "U    12775\n",
      "H    12743\n",
      "F    11717\n",
      "E    11303\n",
      "W     9197\n",
      "Y     8490\n",
      "X     6292\n",
      "B     6169\n",
      "O     5836\n",
      "D     3974\n",
      "C     3575\n",
      "N     2166\n",
      "M      159\n",
      "Name: ord_4, dtype: int64\n",
      "26\n",
      "********************\n",
      "ord_5\n",
      "od    5019\n",
      "fO    3435\n",
      "Zq    2926\n",
      "sD    2880\n",
      "qP    2854\n",
      "      ... \n",
      "eg      47\n",
      "tv      40\n",
      "kU      37\n",
      "vq      35\n",
      "Cl      28\n",
      "Name: ord_5, Length: 192, dtype: int64\n",
      "192\n",
      "********************\n"
     ]
    }
   ],
   "source": [
    "for i in ords:\n",
    "    print(i)\n",
    "    print(train[i].value_counts())\n",
    "    print(train[i].nunique())\n",
    "    print('*'*20)"
   ]
  },
  {
   "cell_type": "code",
   "execution_count": 28,
   "id": "8323377d",
   "metadata": {},
   "outputs": [],
   "source": [
    "ordinal_enc = [i for i in ords if train[i].nunique()<27]\n",
    "target_mean_ord = [i for i in ords if train[i].nunique()>27]"
   ]
  },
  {
   "cell_type": "code",
   "execution_count": 29,
   "id": "b340f303",
   "metadata": {},
   "outputs": [
    {
     "data": {
      "text/plain": [
       "['ord_0', 'ord_1', 'ord_2', 'ord_3', 'ord_4']"
      ]
     },
     "execution_count": 29,
     "metadata": {},
     "output_type": "execute_result"
    }
   ],
   "source": [
    "ordinal_enc"
   ]
  },
  {
   "cell_type": "code",
   "execution_count": 30,
   "id": "774b25d4",
   "metadata": {},
   "outputs": [
    {
     "data": {
      "text/plain": [
       "['ord_5']"
      ]
     },
     "execution_count": 30,
     "metadata": {},
     "output_type": "execute_result"
    }
   ],
   "source": [
    "target_mean_ord"
   ]
  },
  {
   "cell_type": "code",
   "execution_count": 31,
   "id": "785db585",
   "metadata": {},
   "outputs": [
    {
     "data": {
      "text/plain": [
       "['bin_0', 'bin_1', 'bin_2', 'bin_3', 'bin_4']"
      ]
     },
     "execution_count": 31,
     "metadata": {},
     "output_type": "execute_result"
    }
   ],
   "source": [
    "bins "
   ]
  },
  {
   "cell_type": "code",
   "execution_count": 32,
   "id": "286f9b3c",
   "metadata": {},
   "outputs": [
    {
     "ename": "ModuleNotFoundError",
     "evalue": "No module named 'category_encoders'",
     "output_type": "error",
     "traceback": [
      "\u001b[0;31m---------------------------------------------------------------------------\u001b[0m",
      "\u001b[0;31mModuleNotFoundError\u001b[0m                       Traceback (most recent call last)",
      "Input \u001b[0;32mIn [32]\u001b[0m, in \u001b[0;36m<cell line: 1>\u001b[0;34m()\u001b[0m\n\u001b[0;32m----> 1\u001b[0m \u001b[38;5;28;01mimport\u001b[39;00m \u001b[38;5;21;01mcategory_encoders\u001b[39;00m \u001b[38;5;28;01mas\u001b[39;00m \u001b[38;5;21;01mce\u001b[39;00m\n",
      "\u001b[0;31mModuleNotFoundError\u001b[0m: No module named 'category_encoders'"
     ]
    }
   ],
   "source": []
  },
  {
   "cell_type": "code",
   "execution_count": null,
   "id": "e0cfaccc",
   "metadata": {},
   "outputs": [],
   "source": []
  }
 ],
 "metadata": {
  "kernelspec": {
   "display_name": "kaggle",
   "language": "python",
   "name": "kaggle"
  },
  "language_info": {
   "codemirror_mode": {
    "name": "ipython",
    "version": 3
   },
   "file_extension": ".py",
   "mimetype": "text/x-python",
   "name": "python",
   "nbconvert_exporter": "python",
   "pygments_lexer": "ipython3",
   "version": "3.9.12"
  }
 },
 "nbformat": 4,
 "nbformat_minor": 5
}
