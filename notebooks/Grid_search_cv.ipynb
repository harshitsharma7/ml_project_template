{
 "cells": [
  {
   "cell_type": "code",
   "execution_count": 1,
   "id": "a34ff69a",
   "metadata": {},
   "outputs": [],
   "source": [
    "from sklearn.ensemble import RandomForestClassifier"
   ]
  },
  {
   "cell_type": "code",
   "execution_count": 2,
   "id": "8ad1a19b",
   "metadata": {},
   "outputs": [],
   "source": [
    "import pandas as pd\n",
    "import numpy as np"
   ]
  },
  {
   "cell_type": "code",
   "execution_count": 3,
   "id": "5e116bc4",
   "metadata": {},
   "outputs": [],
   "source": [
    "from sklearn import model_selection"
   ]
  },
  {
   "cell_type": "code",
   "execution_count": 4,
   "id": "0eae0bb8",
   "metadata": {},
   "outputs": [],
   "source": [
    "from sklearn import preprocessing"
   ]
  },
  {
   "cell_type": "code",
   "execution_count": 5,
   "id": "ffb9b38f",
   "metadata": {},
   "outputs": [],
   "source": [
    "train_df = pd.read_csv(\"../input/train.csv\")"
   ]
  },
  {
   "cell_type": "code",
   "execution_count": 6,
   "id": "767ef377",
   "metadata": {},
   "outputs": [],
   "source": [
    "y = train_df.target.values\n",
    "train_df = train_df.drop(['id', 'target'], axis=1)\n",
    "# valid_df = valid_df.drop(['id', 'target', 'kfold'], axis=1)\n",
    "\n",
    "# valid_df = valid_df[train_df.columns]\n",
    "\n",
    "label_encoders = {}\n",
    "for c in train_df.columns:\n",
    "    lbl = preprocessing.LabelEncoder()\n",
    "    train_df.loc[:, c] = train_df.loc[:, c].astype(str).fillna(\"NONE\")\n",
    "#     valid_df.loc[:, c] = valid_df.loc[:, c].astype(str).fillna(\"NONE\")\n",
    "#     df_test.loc[:, c] = df_test.loc[:, c].astype(str).fillna(\"NONE\")\n",
    "    lbl.fit(train_df[c].values) \n",
    "#     valid_df[c].values.tolist() + \n",
    "#     df_test[c].values.tolist())\n",
    "    train_df.loc[:, c] = lbl.transform(train_df[c].values.tolist())\n",
    "#     valid_df.loc[:, c] = lbl.transform(valid_df[c].values.tolist())\n",
    "    label_encoders[c] = lbl"
   ]
  },
  {
   "cell_type": "code",
   "execution_count": 7,
   "id": "ecd3495e",
   "metadata": {},
   "outputs": [
    {
     "name": "stdout",
     "output_type": "stream",
     "text": [
      "(300000, 23) (300000,)\n"
     ]
    }
   ],
   "source": [
    "X = train_df.values\n",
    "\n",
    "print(X.shape,y.shape)"
   ]
  },
  {
   "cell_type": "code",
   "execution_count": 8,
   "id": "211272fb",
   "metadata": {},
   "outputs": [
    {
     "data": {
      "text/plain": [
       "array([0, 0, 0, ..., 1, 1, 0])"
      ]
     },
     "execution_count": 8,
     "metadata": {},
     "output_type": "execute_result"
    }
   ],
   "source": [
    "y"
   ]
  },
  {
   "cell_type": "code",
   "execution_count": 11,
   "id": "689387f4",
   "metadata": {},
   "outputs": [],
   "source": [
    "clf =RandomForestClassifier(n_jobs=-1)"
   ]
  },
  {
   "cell_type": "code",
   "execution_count": 10,
   "id": "64e22e54",
   "metadata": {},
   "outputs": [],
   "source": [
    "cv = model_selection.RepeatedStratifiedKFold(n_splits=5, n_repeats=2, random_state=1)"
   ]
  },
  {
   "cell_type": "code",
   "execution_count": 12,
   "id": "c5b6807a",
   "metadata": {},
   "outputs": [],
   "source": [
    "grid = dict()\n",
    "grid['n_estimators'] = [200,350,500]\n",
    "grid['max_depth'] = [5,10,None]"
   ]
  },
  {
   "cell_type": "code",
   "execution_count": 13,
   "id": "26ba05a5",
   "metadata": {},
   "outputs": [],
   "source": [
    "search = model_selection.GridSearchCV(clf, grid, scoring='roc_auc', n_jobs=-1, cv=cv, verbose=2)"
   ]
  },
  {
   "cell_type": "code",
   "execution_count": null,
   "id": "afe2f341",
   "metadata": {},
   "outputs": [
    {
     "name": "stdout",
     "output_type": "stream",
     "text": [
      "Fitting 10 folds for each of 9 candidates, totalling 90 fits\n"
     ]
    }
   ],
   "source": [
    "result = search.fit(X,y)"
   ]
  },
  {
   "cell_type": "code",
   "execution_count": null,
   "id": "e6988226",
   "metadata": {},
   "outputs": [],
   "source": []
  }
 ],
 "metadata": {
  "kernelspec": {
   "display_name": "kaggle",
   "language": "python",
   "name": "kaggle"
  },
  "language_info": {
   "codemirror_mode": {
    "name": "ipython",
    "version": 3
   },
   "file_extension": ".py",
   "mimetype": "text/x-python",
   "name": "python",
   "nbconvert_exporter": "python",
   "pygments_lexer": "ipython3",
   "version": "3.9.12"
  }
 },
 "nbformat": 4,
 "nbformat_minor": 5
}
